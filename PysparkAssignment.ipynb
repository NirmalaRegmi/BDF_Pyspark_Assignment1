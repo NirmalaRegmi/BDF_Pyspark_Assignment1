{
 "cells": [
  {
   "cell_type": "code",
   "execution_count": 1,
   "metadata": {},
   "outputs": [],
   "source": [
    "import findspark\n",
    "findspark.init()\n",
    "\n",
    "from pyspark.sql import SparkSession\n",
    "spark = SparkSession.builder.appName(\"BigDataAssignment1\").getOrCreate()"
   ]
  },
  {
   "cell_type": "code",
   "execution_count": 2,
   "metadata": {},
   "outputs": [],
   "source": [
    "import pandas as pd\n",
    "import matplotlib.pyplot as plt  \n",
    "import seaborn as sns "
   ]
  },
  {
   "cell_type": "code",
   "execution_count": 3,
   "metadata": {},
   "outputs": [],
   "source": []
  },
  {
   "cell_type": "code",
   "execution_count": null,
   "metadata": {},
   "outputs": [],
   "source": [
    "\n"
   ]
  },
  {
   "cell_type": "code",
   "execution_count": 4,
   "metadata": {
    "scrolled": true
   },
   "outputs": [
    {
     "name": "stdout",
     "output_type": "stream",
     "text": [
      "root\n",
      " |-- company_number: string (nullable = true)\n",
      " |-- company_type: string (nullable = true)\n",
      " |-- office_address: string (nullable = true)\n",
      " |-- incorporation_date: string (nullable = true)\n",
      " |-- jurisdiction: string (nullable = true)\n",
      " |-- company_status: string (nullable = true)\n",
      " |-- account_type: string (nullable = true)\n",
      " |-- company_name: string (nullable = true)\n",
      " |-- sic_codes: string (nullable = true)\n",
      " |-- date_of_cessation: string (nullable = true)\n",
      " |-- next_accounts_overdue: boolean (nullable = true)\n",
      " |-- confirmation_statement_overdue: boolean (nullable = true)\n",
      " |-- owners: integer (nullable = true)\n",
      " |-- officers: integer (nullable = true)\n",
      " |-- average_number_employees_during_period: double (nullable = true)\n",
      " |-- current_assets: double (nullable = true)\n",
      " |-- last_accounts_period_end: string (nullable = true)\n",
      " |-- company_url: string (nullable = true)\n",
      "\n",
      "+--------------+--------------------+--------------------+------------------+-------------+--------------+--------------------+--------------------+--------------------+-----------------+---------------------+------------------------------+------+--------+--------------------------------------+--------------+------------------------+--------------------+\n",
      "|company_number|        company_type|      office_address|incorporation_date| jurisdiction|company_status|        account_type|        company_name|           sic_codes|date_of_cessation|next_accounts_overdue|confirmation_statement_overdue|owners|officers|average_number_employees_during_period|current_assets|last_accounts_period_end|         company_url|\n",
      "+--------------+--------------------+--------------------+------------------+-------------+--------------+--------------------+--------------------+--------------------+-----------------+---------------------+------------------------------+------+--------+--------------------------------------+--------------+------------------------+--------------------+\n",
      "|      13511884|Private limited c...|CM20 1YS, England...|        2021-07-15|England/Wales|     Dissolved|        Micro Entity|    Nocik Health Ltd|      [86210, 86900]|       2024-06-18|                 null|                          null|     1|       1|                                   0.0|       17602.0|              2023-12-31|https://corpsigna...|\n",
      "|      13511885|Private limited c...|RH2 7JN, England,...|        2021-07-15|England/Wales|        Active|        Micro Entity|   Jfs Group Limited|             [64203]|             null|                 true|                          null|     1|       1|                                   0.0|          null|              2022-07-31|https://corpsigna...|\n",
      "|      13511887|Private limited c...|RM8 1PS, England,...|        2021-07-15|England/Wales|        Active|        Micro Entity|  Samara Trading Ltd|[49320, 49410, 51...|             null|                 null|                          null|     1|       1|                                   1.0|        1307.0|              2023-03-31|https://corpsigna...|\n",
      "|      13511889|Private limited c...|DA12 2RX, England...|        2021-07-15|England/Wales|        Active|        Micro Entity|Quantum Brooks Lo...|[49410, 50200, 51...|             null|                 null|                          null|     2|       2|                                   2.0|         236.0|              2023-07-31|https://corpsigna...|\n",
      "|      13511892|Private limited c...|UB10 0NX, England...|        2021-07-15|England/Wales|        Active|Total Exemption Full|            Pbkn Ltd|             [56101]|             null|                 null|                          null|     1|       1|                                   5.0|       37863.0|              2023-07-31|https://corpsigna...|\n",
      "|      13511893|Private limited c...|CW5 6GD, United K...|        2021-07-15|England/Wales|        Active|             Dormant|Watts Commercial ...|             [64999]|             null|                 null|                          null|     2|       1|                                  null|          null|              2023-07-31|https://corpsigna...|\n",
      "|      13511900|Private limited c...|N16 9BS, England,...|        2021-07-15|England/Wales|        Active|Total Exemption Full|K Media Productio...|[47910, 59112, 74...|             null|                 null|                          null|     1|       1|                                   1.0|        2883.0|              2023-03-31|https://corpsigna...|\n",
      "|      13511901|Private limited c...|TS10 3AA, England...|        2021-07-15|England/Wales|        Active|Total Exemption Full|       M&o Homes Ltd|      [68100, 68209]|             null|                 null|                          null|     1|       1|                                  null|        8248.0|              2023-07-31|https://corpsigna...|\n",
      "|      13511906|Private limited c...|BH15 3TB, United ...|        2021-07-15|England/Wales|        Active|Total Exemption Full|  Ssjr Co 12 Limited|             [41100]|             null|                 null|                          null|     1|       2|                                   2.0|      649671.0|              2023-03-31|https://corpsigna...|\n",
      "|      13511907|Private limited c...|SW20 8DT, England...|        2021-07-15|England/Wales|        Active|             Dormant|Vani Construction...|             [43390]|             null|                 null|                          true|     1|       1|                                  null|          null|              2023-07-31|https://corpsigna...|\n",
      "+--------------+--------------------+--------------------+------------------+-------------+--------------+--------------------+--------------------+--------------------+-----------------+---------------------+------------------------------+------+--------+--------------------------------------+--------------+------------------------+--------------------+\n",
      "only showing top 10 rows\n",
      "\n"
     ]
    }
   ],
   "source": [
    "# Step 1: Reload data with proper delimiter and re-check schema\n",
    "data = spark.read.option(\"header\", \"true\").option(\"delimiter\", \";\").option(\"inferSchema\", \"true\").csv(\"/home/bigdata/Downloads/companies.csv\")\n",
    "data.printSchema()\n",
    "data.show(10)\n",
    "\n",
    "\n"
   ]
  },
  {
   "cell_type": "code",
   "execution_count": 5,
   "metadata": {},
   "outputs": [
    {
     "name": "stdout",
     "output_type": "stream",
     "text": [
      "Total number of rows: 5428900\n"
     ]
    }
   ],
   "source": [
    "row_count = data.count()\n",
    "print(f\"Total number of rows: {row_count}\")\n"
   ]
  },
  {
   "cell_type": "code",
   "execution_count": 6,
   "metadata": {},
   "outputs": [],
   "source": [
    "# Step 2. Data Cleaning and Transformation\n",
    "# Drop duplicates\n",
    "data = data.dropDuplicates()"
   ]
  },
  {
   "cell_type": "code",
   "execution_count": 7,
   "metadata": {},
   "outputs": [],
   "source": [
    "# Handle missing values\n",
    "# Here, we fill missing numeric values with 0 and string values with \"Unknown\" (modify as necessary)\n",
    "data = data.fillna({\"company_number\": \"Unknown\", \"incorporation_date\": \"Unknown\", \"company_status\": \"Unknown\"})\n",
    "data = data.fillna(0)  # for numeric columns"
   ]
  },
  {
   "cell_type": "code",
   "execution_count": 8,
   "metadata": {},
   "outputs": [],
   "source": [
    "from pyspark.sql.functions import col\n",
    "\n",
    "# Convert to appropriate data types as needed\n",
    "data = data.withColumn(\"company_number\", col(\"company_number\").cast(\"integer\"))\n",
    "data = data.withColumn(\"incorporation_date\", col(\"incorporation_date\").cast(\"date\"))\n",
    "data = data.withColumn(\"last_accounts_period_end\", col(\"last_accounts_period_end\").cast(\"date\"))"
   ]
  },
  {
   "cell_type": "code",
   "execution_count": 9,
   "metadata": {},
   "outputs": [],
   "source": [
    "\n",
    "# Step 3. Data Analysis Using Spark SQL\n",
    "\n",
    "# Register DataFrame as a temporary view\n",
    "data.createOrReplaceTempView(\"company_data\")"
   ]
  },
  {
   "cell_type": "code",
   "execution_count": 10,
   "metadata": {},
   "outputs": [
    {
     "name": "stdout",
     "output_type": "stream",
     "text": [
      "+------------------+--------------------+\n",
      "|        avg_assets|       stddev_assets|\n",
      "+------------------+--------------------+\n",
      "|184785.88557368895|3.3463218554058746E7|\n",
      "+------------------+--------------------+\n",
      "\n"
     ]
    }
   ],
   "source": [
    "# Example queries for analysis\n",
    "# 1. Aggregation: Summary statistics for 'current_assets'\n",
    "spark.sql(\"SELECT AVG(current_assets) as avg_assets, STDDEV(current_assets) as stddev_assets FROM company_data\").show()"
   ]
  },
  {
   "cell_type": "code",
   "execution_count": 11,
   "metadata": {},
   "outputs": [
    {
     "name": "stdout",
     "output_type": "stream",
     "text": [
      "+--------------------+------------------+\n",
      "|      company_status|        avg_assets|\n",
      "+--------------------+------------------+\n",
      "|   In Administration|1421106.3084163899|\n",
      "|                Open|               0.0|\n",
      "|           Dissolved| 24222.90497702022|\n",
      "|Voluntary Arrange...| 843816.7972709552|\n",
      "|Insolvency Procee...| 938846.8463768116|\n",
      "|              Active| 203061.2782901324|\n",
      "|             Removed|               0.0|\n",
      "|              Closed|               0.0|\n",
      "|  Converted / Closed|18154.071065989847|\n",
      "|          Registered|               0.0|\n",
      "|     Receiver Action| 373490.2225121133|\n",
      "|         Liquidation| 180670.2547085364|\n",
      "+--------------------+------------------+\n",
      "\n"
     ]
    }
   ],
   "source": [
    "# 2. Grouping and Filtering: Group by 'company_status' and calculate average assets\n",
    "spark.sql(\"SELECT company_status, AVG(current_assets) as avg_assets FROM company_data GROUP BY company_status\").show()"
   ]
  },
  {
   "cell_type": "code",
   "execution_count": 12,
   "metadata": {},
   "outputs": [
    {
     "name": "stdout",
     "output_type": "stream",
     "text": [
      "+----+-------------+\n",
      "|year|company_count|\n",
      "+----+-------------+\n",
      "|1856|            7|\n",
      "|1857|            1|\n",
      "|1859|            1|\n",
      "|1860|            2|\n",
      "|1861|            3|\n",
      "|1862|            4|\n",
      "|1863|            5|\n",
      "|1864|           12|\n",
      "|1865|            9|\n",
      "|1866|            5|\n",
      "|1867|            4|\n",
      "|1868|            4|\n",
      "|1869|            6|\n",
      "|1870|            7|\n",
      "|1871|           14|\n",
      "|1872|           10|\n",
      "|1873|           12|\n",
      "|1874|           13|\n",
      "|1875|           17|\n",
      "|1876|           14|\n",
      "+----+-------------+\n",
      "only showing top 20 rows\n",
      "\n"
     ]
    }
   ],
   "source": [
    "# 3. Time-based Analysis: Count companies by year of incorporation\n",
    "spark.sql(\"SELECT YEAR(incorporation_date) AS year, COUNT(*) AS company_count FROM company_data GROUP BY year ORDER BY year\").show()"
   ]
  },
  {
   "cell_type": "code",
   "execution_count": 13,
   "metadata": {},
   "outputs": [
    {
     "name": "stdout",
     "output_type": "stream",
     "text": [
      "+--------------------+------------------+\n",
      "|        account_type|        avg_assets|\n",
      "+--------------------+------------------+\n",
      "|   Partial Exemption| 285593.9655172414|\n",
      "|                null|412.14171976265544|\n",
      "|Audit Exemption S...|249816.82507367767|\n",
      "|               Group|1333282.7961887142|\n",
      "|No accounts type ...| 308.9353448275862|\n",
      "|              Medium| 1894753.677463818|\n",
      "|             Dormant|129846.00277465589|\n",
      "|    Audited abridged| 1570534.102992345|\n",
      "|               Small|1110690.1666092516|\n",
      "|Filing Exemption ...| 24938.83378746594|\n",
      "|             Initial|               0.0|\n",
      "|Total Exemption Full| 325091.5284709031|\n",
      "|             Interim|               0.0|\n",
      "|  Unaudited abridged|358837.54373729724|\n",
      "|        Micro Entity| 68863.07942598994|\n",
      "|                Full|1570465.2117125092|\n",
      "|                Null|39.349196838632004|\n",
      "|Total Exemption S...|               0.0|\n",
      "+--------------------+------------------+\n",
      "\n"
     ]
    }
   ],
   "source": [
    "# Grouping - e.g., average assets per account type\n",
    "avg_assets_per_account = spark.sql(\"SELECT account_type, AVG(current_assets) AS avg_assets FROM company_data GROUP BY account_type\")\n",
    "avg_assets_per_account.show()"
   ]
  },
  {
   "cell_type": "code",
   "execution_count": 14,
   "metadata": {},
   "outputs": [
    {
     "data": {
      "image/png": "[encoded data removed]",
      "text/plain": [
       "<Figure size 720x432 with 1 Axes>"
      ]
     },
     "metadata": {
      "needs_background": "light"
     },
     "output_type": "display_data"
    }
   ],
   "source": [
    "# Convert to Pandas DataFrame for visualization\n",
    "avg_assets_per_account_pd = avg_assets_per_account.toPandas()\n",
    "\n",
    "# Visualization of average assets per account type\n",
    "plt.figure(figsize=(10, 6))\n",
    "sns.barplot(data=avg_assets_per_account_pd, x='account_type', y='avg_assets', palette='viridis')\n",
    "plt.title('Average Current Assets per Account Type')\n",
    "plt.xticks(rotation=45)\n",
    "plt.ylabel('Average Current Assets')\n",
    "plt.xlabel('Account Type')\n",
    "plt.tight_layout()\n",
    "plt.show()\n"
   ]
  },
  {
   "cell_type": "code",
   "execution_count": 15,
   "metadata": {},
   "outputs": [
    {
     "name": "stdout",
     "output_type": "stream",
     "text": [
      "+----+-----+\n",
      "|year|count|\n",
      "+----+-----+\n",
      "|1856|    7|\n",
      "|1857|    1|\n",
      "|1859|    1|\n",
      "|1860|    2|\n",
      "|1861|    3|\n",
      "|1862|    4|\n",
      "|1863|    5|\n",
      "|1864|   12|\n",
      "|1865|    9|\n",
      "|1866|    5|\n",
      "|1867|    4|\n",
      "|1868|    4|\n",
      "|1869|    6|\n",
      "|1870|    7|\n",
      "|1871|   14|\n",
      "|1872|   10|\n",
      "|1873|   12|\n",
      "|1874|   13|\n",
      "|1875|   17|\n",
      "|1876|   14|\n",
      "+----+-----+\n",
      "only showing top 20 rows\n",
      "\n"
     ]
    }
   ],
   "source": [
    "# Time-based analysis - trends over time if there's a date field (e.g., incorporation_date)\n",
    "time_based_analysis = spark.sql(\"SELECT YEAR(incorporation_date) AS year, COUNT(*) AS count FROM company_data GROUP BY year ORDER BY year\")\n",
    "time_based_analysis.show()\n"
   ]
  },
  {
   "cell_type": "code",
   "execution_count": 16,
   "metadata": {},
   "outputs": [
    {
     "data": {
      "image/png": "[encoded data removed]",
      "text/plain": [
       "<Figure size 720x432 with 1 Axes>"
      ]
     },
     "metadata": {
      "needs_background": "light"
     },
     "output_type": "display_data"
    }
   ],
   "source": [
    "# Convert to Pandas DataFrame for visualization\n",
    "time_based_analysis_pd = time_based_analysis.toPandas()\n",
    "\n",
    "# Visualization of incorporation trends over the years\n",
    "plt.figure(figsize=(10, 6))\n",
    "sns.lineplot(data=time_based_analysis_pd, x='year', y='count', marker='o')\n",
    "plt.title('Number of Companies Incorporated Over the Years')\n",
    "plt.ylabel('Number of Companies')\n",
    "plt.xlabel('Year')\n",
    "plt.tight_layout()\n",
    "plt.show()"
   ]
  },
  {
   "cell_type": "code",
   "execution_count": 17,
   "metadata": {},
   "outputs": [],
   "source": [
    "# Step 4. Machine Learning Model (Regression)\n",
    "\n",
    "# For ML, we'll assume we want to predict 'current_assets' (Regression example)\n",
    "from pyspark.ml.feature import VectorAssembler\n",
    "from pyspark.ml.regression import LinearRegression\n",
    "from pyspark.ml import Pipeline\n",
    "from pyspark.ml.evaluation import RegressionEvaluator"
   ]
  },
  {
   "cell_type": "code",
   "execution_count": null,
   "metadata": {},
   "outputs": [],
   "source": []
  },
  {
   "cell_type": "code",
   "execution_count": 18,
   "metadata": {},
   "outputs": [],
   "source": [
    "# Select features for regression (you may adjust these based on relevance to 'current_assets')\n",
    "feature_columns = [\"owners\", \"officers\", \"average_number_employees_during_period\"]\n",
    "assembler = VectorAssembler(inputCols=feature_columns, outputCol=\"features\")"
   ]
  },
  {
   "cell_type": "code",
   "execution_count": 19,
   "metadata": {},
   "outputs": [],
   "source": [
    "# Split data into training and testing sets\n",
    "train_data, test_data = data.randomSplit([0.8, 0.2], seed=123)"
   ]
  },
  {
   "cell_type": "code",
   "execution_count": 20,
   "metadata": {},
   "outputs": [],
   "source": [
    "# Initialize Linear Regression model\n",
    "lr = LinearRegression(featuresCol=\"features\", labelCol=\"current_assets\")"
   ]
  },
  {
   "cell_type": "code",
   "execution_count": 21,
   "metadata": {},
   "outputs": [],
   "source": [
    "# Set up pipeline\n",
    "pipeline = Pipeline(stages=[assembler, lr])\n"
   ]
  },
  {
   "cell_type": "code",
   "execution_count": 22,
   "metadata": {},
   "outputs": [],
   "source": [
    "data.createOrReplaceTempView(\"data_view\")\n"
   ]
  },
  {
   "cell_type": "code",
   "execution_count": 23,
   "metadata": {},
   "outputs": [],
   "source": [
    "# Train the model\n",
    "model = pipeline.fit(train_data)"
   ]
  },
  {
   "cell_type": "code",
   "execution_count": 24,
   "metadata": {},
   "outputs": [
    {
     "name": "stdout",
     "output_type": "stream",
     "text": [
      "+-------------+--------------+------------------+\n",
      "|     features|current_assets|        prediction|\n",
      "+-------------+--------------+------------------+\n",
      "|[1.0,2.0,0.0]|         445.0|186894.60195941356|\n",
      "|[1.0,1.0,0.0]|           0.0|131555.17177429542|\n",
      "|[2.0,2.0,0.0]|      871994.0|260779.35298601296|\n",
      "|[2.0,2.0,0.0]|           0.0|260779.35298601296|\n",
      "|[2.0,2.0,0.0]|           0.0|260779.35298601296|\n",
      "|[1.0,2.0,0.0]|      563565.0|186894.60195941356|\n",
      "|[2.0,3.0,0.0]|           0.0| 316118.7831711311|\n",
      "|[4.0,4.0,0.0]|           0.0| 519227.7154094481|\n",
      "|[2.0,2.0,2.0]|     9224751.0|260779.42329778848|\n",
      "|[3.0,3.0,0.0]|           0.0|390003.53419773054|\n",
      "+-------------+--------------+------------------+\n",
      "only showing top 10 rows\n",
      "\n"
     ]
    }
   ],
   "source": [
    "# Make predictions on test data\n",
    "predictions = model.transform(test_data)\n",
    "predictions.select(\"features\", \"current_assets\", \"prediction\").show(10)\n"
   ]
  },
  {
   "cell_type": "code",
   "execution_count": 25,
   "metadata": {},
   "outputs": [
    {
     "name": "stdout",
     "output_type": "stream",
     "text": [
      "Root Mean Squared Error (RMSE): 11997463.587921651\n"
     ]
    }
   ],
   "source": [
    "# Evaluate model performance\n",
    "evaluator = RegressionEvaluator(labelCol=\"current_assets\", predictionCol=\"prediction\", metricName=\"rmse\")\n",
    "rmse = evaluator.evaluate(predictions)\n",
    "print(f\"Root Mean Squared Error (RMSE): {rmse}\")"
   ]
  },
  {
   "cell_type": "code",
   "execution_count": 26,
   "metadata": {},
   "outputs": [],
   "source": [
    "\n",
    "# Step 5. Model Tuning and Evaluation\n",
    "\n",
    "from pyspark.ml.tuning import ParamGridBuilder, CrossValidator\n",
    "\n",
    "# Create parameter grid for cross-validation\n",
    "param_grid = ParamGridBuilder() \\\n",
    "    .addGrid(lr.regParam, [0.01, 0.1, 1.0]) \\\n",
    "    .addGrid(lr.maxIter, [10, 50, 100]) \\\n",
    "    .build()"
   ]
  },
  {
   "cell_type": "code",
   "execution_count": 27,
   "metadata": {},
   "outputs": [],
   "source": [
    "# Cross-validation setup\n",
    "crossval = CrossValidator(estimator=pipeline,\n",
    "                          estimatorParamMaps=param_grid,\n",
    "                          evaluator=evaluator,\n",
    "                          numFolds=3)\n"
   ]
  },
  {
   "cell_type": "code",
   "execution_count": 28,
   "metadata": {},
   "outputs": [],
   "source": [
    "# Fit cross-validation model\n",
    "cv_model = crossval.fit(train_data)"
   ]
  },
  {
   "cell_type": "code",
   "execution_count": 29,
   "metadata": {},
   "outputs": [
    {
     "name": "stdout",
     "output_type": "stream",
     "text": [
      "Final RMSE after tuning: 11997463.58792954\n"
     ]
    }
   ],
   "source": [
    "# Evaluate the best model on the test data\n",
    "final_predictions = cv_model.transform(test_data)\n",
    "final_rmse = evaluator.evaluate(final_predictions)\n",
    "print(f\"Final RMSE after tuning: {final_rmse}\")"
   ]
  },
  {
   "cell_type": "code",
   "execution_count": null,
   "metadata": {},
   "outputs": [],
   "source": [
    "\n",
    "\n"
   ]
  },
  {
   "cell_type": "code",
   "execution_count": null,
   "metadata": {},
   "outputs": [],
   "source": []
  },
  {
   "cell_type": "code",
   "execution_count": null,
   "metadata": {},
   "outputs": [],
   "source": []
  },
  {
   "cell_type": "code",
   "execution_count": null,
   "metadata": {},
   "outputs": [],
   "source": []
  },
  {
   "cell_type": "code",
   "execution_count": null,
   "metadata": {},
   "outputs": [],
   "source": [
    "\n"
   ]
  },
  {
   "cell_type": "code",
   "execution_count": null,
   "metadata": {},
   "outputs": [],
   "source": [
    "\n"
   ]
  }
 ],
 "metadata": {
  "kernelspec": {
   "display_name": "Python 3",
   "language": "python",
   "name": "python3"
  },
  "language_info": {
   "codemirror_mode": {
    "name": "ipython",
    "version": 3
   },
   "file_extension": ".py",
   "mimetype": "text/x-python",
   "name": "python",
   "nbconvert_exporter": "python",
   "pygments_lexer": "ipython3",
   "version": "3.8.3"
  }
 },
 "nbformat": 4,
 "nbformat_minor": 4
}
